{
 "cells": [
  {
   "cell_type": "code",
   "execution_count": 2,
   "metadata": {},
   "outputs": [
    {
     "name": "stdout",
     "output_type": "stream",
     "text": [
      "---> B1 5 200.0\n",
      "B1, State: STATE.IN_STOP, last-stop: Stop(id='S01', x=0, y=0), scheduleIndex: 0, speed: 0, tripPerc: 0, ETA: 5.0, ScheduledTime: 4\n",
      "start_trip\n",
      "---> B1 5 200.0\n",
      "keep_speed 0.2\n",
      "---> B2 5 200.0\n",
      "B2, State: STATE.IN_STOP, last-stop: Stop(id='S05', x=2, y=4), scheduleIndex: 0, speed: 0, tripPerc: 0, ETA: 5.0, ScheduledTime: 4\n",
      "start_trip\n",
      "---> B2 5 200.0\n",
      "keep_speed 0.2\n",
      "---> B3 5 600.0\n",
      "B3, State: STATE.IN_STOP, last-stop: Stop(id='S08', x=0, y=5), scheduleIndex: 0, speed: 0, tripPerc: 0, ETA: 5.0, ScheduledTime: 4\n",
      "start_trip\n",
      "---> B3 5 600.0\n",
      "keep_speed 0.2\n",
      "B1, State: STATE.BETWEEN_STOPS, last-stop: Stop(id='S01', x=0, y=0), scheduleIndex: 0, speed: 200.0, tripPerc: 0.2, ETA: 5.0, ScheduledTime: 4\n",
      "accelerate\n",
      "keep_speed 0.41000000000000003\n",
      "B2, State: STATE.BETWEEN_STOPS, last-stop: Stop(id='S05', x=2, y=4), scheduleIndex: 0, speed: 200.0, tripPerc: 0.2, ETA: 5.0, ScheduledTime: 4\n",
      "accelerate\n",
      "keep_speed 0.41000000000000003\n",
      "B3, State: STATE.BETWEEN_STOPS, last-stop: Stop(id='S08', x=0, y=5), scheduleIndex: 0, speed: 600.0, tripPerc: 0.2, ETA: 5.0, ScheduledTime: 4\n",
      "accelerate\n",
      "keep_speed 0.4033333333333333\n",
      "B1, State: STATE.BETWEEN_STOPS, last-stop: Stop(id='S01', x=0, y=0), scheduleIndex: 0, speed: 210.0, tripPerc: 0.41000000000000003, ETA: 4.809523809523809, ScheduledTime: 4\n",
      "accelerate\n",
      "keep_speed 0.63\n",
      "B2, State: STATE.BETWEEN_STOPS, last-stop: Stop(id='S05', x=2, y=4), scheduleIndex: 0, speed: 210.0, tripPerc: 0.41000000000000003, ETA: 4.809523809523809, ScheduledTime: 4\n",
      "accelerate\n",
      "keep_speed 0.63\n",
      "B3, State: STATE.BETWEEN_STOPS, last-stop: Stop(id='S08', x=0, y=5), scheduleIndex: 0, speed: 610.0, tripPerc: 0.4033333333333333, ETA: 4.934426229508197, ScheduledTime: 4\n",
      "accelerate\n",
      "keep_speed 0.61\n",
      "B1, State: STATE.BETWEEN_STOPS, last-stop: Stop(id='S01', x=0, y=0), scheduleIndex: 0, speed: 220.0, tripPerc: 0.63, ETA: 4.681818181818182, ScheduledTime: 4\n",
      "accelerate\n",
      "keep_speed 0.86\n",
      "B2, State: STATE.BETWEEN_STOPS, last-stop: Stop(id='S05', x=2, y=4), scheduleIndex: 0, speed: 220.0, tripPerc: 0.63, ETA: 4.681818181818182, ScheduledTime: 4\n",
      "accelerate\n",
      "keep_speed 0.86\n",
      "B3, State: STATE.BETWEEN_STOPS, last-stop: Stop(id='S08', x=0, y=5), scheduleIndex: 0, speed: 620.0, tripPerc: 0.61, ETA: 4.887096774193548, ScheduledTime: 4\n",
      "accelerate\n",
      "keep_speed 0.82\n",
      "B1, State: STATE.BETWEEN_STOPS, last-stop: Stop(id='S01', x=0, y=0), scheduleIndex: 0, speed: 230.0, tripPerc: 0.86, ETA: 4.608695652173913, ScheduledTime: 4\n",
      "accelerate\n",
      "keep_speed 1.1\n",
      "arrived\n",
      "B2, State: STATE.BETWEEN_STOPS, last-stop: Stop(id='S05', x=2, y=4), scheduleIndex: 0, speed: 230.0, tripPerc: 0.86, ETA: 4.608695652173913, ScheduledTime: 4\n",
      "accelerate\n",
      "keep_speed 1.1\n",
      "arrived\n",
      "B3, State: STATE.BETWEEN_STOPS, last-stop: Stop(id='S08', x=0, y=5), scheduleIndex: 0, speed: 630.0, tripPerc: 0.82, ETA: 4.857142857142858, ScheduledTime: 4\n",
      "accelerate\n",
      "keep_speed 1.0333333333333332\n",
      "arrived\n"
     ]
    }
   ],
   "source": [
    "from DataInitializer import busData, gridResolution, busNetwork\n",
    "from Model import BusNetworkModel\n",
    "import mesa\n",
    "\n",
    "\n",
    "model = BusNetworkModel(busData, gridResolution, busNetwork)\n",
    "\n",
    "for _ in range(5): model.step() \n"
   ]
  },
  {
   "cell_type": "code",
   "execution_count": 3,
   "metadata": {},
   "outputs": [
    {
     "data": {
      "text/plain": [
       "[{'speed': 230.0}, {'speed': 230.0}, {'speed': 630.0}]"
      ]
     },
     "execution_count": 3,
     "metadata": {},
     "output_type": "execute_result"
    }
   ],
   "source": [
    "df = model.datacollector.get_agent_vars_dataframe().astype(\"float\")\n",
    "latest_step = df.index.levels[0][-1]\n",
    "label_strings = [f[\"Label\"] for f in [{\"Label\":\"speed\"}]]\n",
    "dict = df.loc[latest_step].T.loc[label_strings].to_dict()\n",
    "list(dict.values())"
   ]
  },
  {
   "cell_type": "code",
   "execution_count": 12,
   "metadata": {},
   "outputs": [
    {
     "ename": "TypeError",
     "evalue": "string indices must be integers",
     "output_type": "error",
     "traceback": [
      "\u001b[0;31m---------------------------------------------------------------------------\u001b[0m",
      "\u001b[0;31mTypeError\u001b[0m                                 Traceback (most recent call last)",
      "Cell \u001b[0;32mIn[12], line 3\u001b[0m\n\u001b[1;32m      1\u001b[0m df \u001b[38;5;241m=\u001b[39m model\u001b[38;5;241m.\u001b[39mdatacollector\u001b[38;5;241m.\u001b[39mget_agent_vars_dataframe()\u001b[38;5;241m.\u001b[39mastype(\u001b[38;5;124m\"\u001b[39m\u001b[38;5;124mfloat\u001b[39m\u001b[38;5;124m\"\u001b[39m)\n\u001b[1;32m      2\u001b[0m latest_step \u001b[38;5;241m=\u001b[39m df\u001b[38;5;241m.\u001b[39mindex\u001b[38;5;241m.\u001b[39mlevels[\u001b[38;5;241m0\u001b[39m][\u001b[38;5;241m-\u001b[39m\u001b[38;5;241m1\u001b[39m]\n\u001b[0;32m----> 3\u001b[0m label_strings \u001b[38;5;241m=\u001b[39m [f[\u001b[38;5;124m\"\u001b[39m\u001b[38;5;124mLabel\u001b[39m\u001b[38;5;124m\"\u001b[39m] \u001b[38;5;28;01mfor\u001b[39;00m f \u001b[38;5;129;01min\u001b[39;00m [\u001b[38;5;124m\"\u001b[39m\u001b[38;5;124mspeed\u001b[39m\u001b[38;5;124m\"\u001b[39m]]\n\u001b[1;32m      4\u001b[0m \u001b[38;5;28mdict\u001b[39m \u001b[38;5;241m=\u001b[39m df\u001b[38;5;241m.\u001b[39mloc[latest_step]\u001b[38;5;241m.\u001b[39mT\u001b[38;5;241m.\u001b[39mloc[label_strings]\u001b[38;5;241m.\u001b[39mto_dict()\n\u001b[1;32m      5\u001b[0m current_values \u001b[38;5;241m=\u001b[39m \u001b[38;5;28mlist\u001b[39m(\u001b[38;5;28mdict\u001b[39m\u001b[38;5;241m.\u001b[39mvalues())\n",
      "Cell \u001b[0;32mIn[12], line 3\u001b[0m, in \u001b[0;36m<listcomp>\u001b[0;34m(.0)\u001b[0m\n\u001b[1;32m      1\u001b[0m df \u001b[38;5;241m=\u001b[39m model\u001b[38;5;241m.\u001b[39mdatacollector\u001b[38;5;241m.\u001b[39mget_agent_vars_dataframe()\u001b[38;5;241m.\u001b[39mastype(\u001b[38;5;124m\"\u001b[39m\u001b[38;5;124mfloat\u001b[39m\u001b[38;5;124m\"\u001b[39m)\n\u001b[1;32m      2\u001b[0m latest_step \u001b[38;5;241m=\u001b[39m df\u001b[38;5;241m.\u001b[39mindex\u001b[38;5;241m.\u001b[39mlevels[\u001b[38;5;241m0\u001b[39m][\u001b[38;5;241m-\u001b[39m\u001b[38;5;241m1\u001b[39m]\n\u001b[0;32m----> 3\u001b[0m label_strings \u001b[38;5;241m=\u001b[39m [\u001b[43mf\u001b[49m\u001b[43m[\u001b[49m\u001b[38;5;124;43m\"\u001b[39;49m\u001b[38;5;124;43mLabel\u001b[39;49m\u001b[38;5;124;43m\"\u001b[39;49m\u001b[43m]\u001b[49m \u001b[38;5;28;01mfor\u001b[39;00m f \u001b[38;5;129;01min\u001b[39;00m [\u001b[38;5;124m\"\u001b[39m\u001b[38;5;124mspeed\u001b[39m\u001b[38;5;124m\"\u001b[39m]]\n\u001b[1;32m      4\u001b[0m \u001b[38;5;28mdict\u001b[39m \u001b[38;5;241m=\u001b[39m df\u001b[38;5;241m.\u001b[39mloc[latest_step]\u001b[38;5;241m.\u001b[39mT\u001b[38;5;241m.\u001b[39mloc[label_strings]\u001b[38;5;241m.\u001b[39mto_dict()\n\u001b[1;32m      5\u001b[0m current_values \u001b[38;5;241m=\u001b[39m \u001b[38;5;28mlist\u001b[39m(\u001b[38;5;28mdict\u001b[39m\u001b[38;5;241m.\u001b[39mvalues())\n",
      "\u001b[0;31mTypeError\u001b[0m: string indices must be integers"
     ]
    }
   ],
   "source": [
    "\n",
    "\n"
   ]
  },
  {
   "cell_type": "code",
   "execution_count": 18,
   "metadata": {},
   "outputs": [
    {
     "ename": "TypeError",
     "evalue": "'int' object is not subscriptable",
     "output_type": "error",
     "traceback": [
      "\u001b[0;31m---------------------------------------------------------------------------\u001b[0m",
      "\u001b[0;31mTypeError\u001b[0m                                 Traceback (most recent call last)",
      "Cell \u001b[0;32mIn[18], line 2\u001b[0m\n\u001b[1;32m      1\u001b[0m f \u001b[38;5;241m=\u001b[39m \u001b[38;5;241m1\u001b[39m\n\u001b[0;32m----> 2\u001b[0m \u001b[43mf\u001b[49m\u001b[43m[\u001b[49m\u001b[38;5;124;43m\"\u001b[39;49m\u001b[38;5;124;43mLabel\u001b[39;49m\u001b[38;5;124;43m\"\u001b[39;49m\u001b[43m]\u001b[49m\n",
      "\u001b[0;31mTypeError\u001b[0m: 'int' object is not subscriptable"
     ]
    }
   ],
   "source": [
    "f = 1\n",
    "f[\"Label\"]"
   ]
  }
 ],
 "metadata": {
  "kernelspec": {
   "display_name": "Python 3",
   "language": "python",
   "name": "python3"
  },
  "language_info": {
   "codemirror_mode": {
    "name": "ipython",
    "version": 3
   },
   "file_extension": ".py",
   "mimetype": "text/x-python",
   "name": "python",
   "nbconvert_exporter": "python",
   "pygments_lexer": "ipython3",
   "version": "3.10.12"
  }
 },
 "nbformat": 4,
 "nbformat_minor": 2
}
